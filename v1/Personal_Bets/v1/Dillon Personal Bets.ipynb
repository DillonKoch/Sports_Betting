{
 "cells": [
  {
   "cell_type": "markdown",
   "metadata": {},
   "source": [
    "## Personal Bet Tracking"
   ]
  },
  {
   "cell_type": "code",
   "execution_count": 1,
   "metadata": {},
   "outputs": [],
   "source": [
    "# load packages\n",
    "from LII_update import update\n",
    "from LII_Season2 import Bettor\n",
    "from datetime import date\n",
    "import pandas as pd\n",
    "\n",
    "def d(month, day):\n",
    "    return date(2020, month, day)"
   ]
  },
  {
   "cell_type": "code",
   "execution_count": 15,
   "metadata": {},
   "outputs": [],
   "source": [
    "Dillon = Bettor('Dillon Koch', 'Data Science Intern')\n",
    "\n",
    "# insert a bet here -----------------\n",
    "Dillon.betMoneyLine(d(2,2),d(2,2),5,5,1,100,401131047)\n"
   ]
  },
  {
   "cell_type": "code",
   "execution_count": 16,
   "metadata": {
    "scrolled": true
   },
   "outputs": [
    {
     "data": {
      "text/html": [
       "<div>\n",
       "<style scoped>\n",
       "    .dataframe tbody tr th:only-of-type {\n",
       "        vertical-align: middle;\n",
       "    }\n",
       "\n",
       "    .dataframe tbody tr th {\n",
       "        vertical-align: top;\n",
       "    }\n",
       "\n",
       "    .dataframe thead th {\n",
       "        text-align: right;\n",
       "    }\n",
       "</style>\n",
       "<table border=\"1\" class=\"dataframe\">\n",
       "  <thead>\n",
       "    <tr style=\"text-align: right;\">\n",
       "      <th></th>\n",
       "      <th>Bettor</th>\n",
       "      <th>Bet ID</th>\n",
       "      <th>Parlay No.</th>\n",
       "      <th>Bet Type</th>\n",
       "      <th>Bet Date</th>\n",
       "      <th>Gameday</th>\n",
       "      <th>Bet</th>\n",
       "      <th>To Win</th>\n",
       "      <th>Home Team</th>\n",
       "      <th>Home Record</th>\n",
       "      <th>Away Team</th>\n",
       "      <th>Away Record</th>\n",
       "      <th>Pick</th>\n",
       "      <th>Home Score</th>\n",
       "      <th>Away Score</th>\n",
       "      <th>Spread</th>\n",
       "      <th>Money Line</th>\n",
       "      <th>League</th>\n",
       "      <th>Outcome</th>\n",
       "      <th>ESPN ID</th>\n",
       "    </tr>\n",
       "  </thead>\n",
       "  <tbody>\n",
       "    <tr>\n",
       "      <td>0</td>\n",
       "      <td>Dillon Koch</td>\n",
       "      <td>1</td>\n",
       "      <td>None</td>\n",
       "      <td>Money Line</td>\n",
       "      <td>2020-02-02</td>\n",
       "      <td>2020-02-02</td>\n",
       "      <td>5</td>\n",
       "      <td>5</td>\n",
       "      <td>Kansas City Chiefs</td>\n",
       "      <td>12-4</td>\n",
       "      <td>San Francisco 49ers</td>\n",
       "      <td>13-3</td>\n",
       "      <td>Kansas City Chiefs</td>\n",
       "      <td>None</td>\n",
       "      <td>None</td>\n",
       "      <td>None</td>\n",
       "      <td>100</td>\n",
       "      <td>NFL</td>\n",
       "      <td>None</td>\n",
       "      <td>401131047</td>\n",
       "    </tr>\n",
       "  </tbody>\n",
       "</table>\n",
       "</div>"
      ],
      "text/plain": [
       "        Bettor Bet ID Parlay No.    Bet Type    Bet Date     Gameday Bet  \\\n",
       "0  Dillon Koch      1       None  Money Line  2020-02-02  2020-02-02   5   \n",
       "\n",
       "  To Win           Home Team Home Record            Away Team Away Record  \\\n",
       "0      5  Kansas City Chiefs        12-4  San Francisco 49ers        13-3   \n",
       "\n",
       "                 Pick Home Score Away Score Spread Money Line League Outcome  \\\n",
       "0  Kansas City Chiefs       None       None   None        100    NFL    None   \n",
       "\n",
       "     ESPN ID  \n",
       "0  401131047  "
      ]
     },
     "execution_count": 16,
     "metadata": {},
     "output_type": "execute_result"
    }
   ],
   "source": [
    "Dillon.allBets"
   ]
  },
  {
   "cell_type": "code",
   "execution_count": 17,
   "metadata": {},
   "outputs": [],
   "source": [
    "# add current bets to CSV\n",
    "with open('Dillon_Current.csv', 'a') as f:\n",
    "    Dillon.allBets.to_csv(f, header=False)"
   ]
  },
  {
   "cell_type": "code",
   "execution_count": 19,
   "metadata": {},
   "outputs": [],
   "source": [
    "# load, update, save data to CSV\n",
    "Dillon_bets = pd.read_csv('Dillon_Current.csv')\n",
    "update(Dillon_bets)\n",
    "Dillon_bets.to_csv('Dillon_Current.csv')"
   ]
  },
  {
   "cell_type": "code",
   "execution_count": null,
   "metadata": {},
   "outputs": [],
   "source": []
  }
 ],
 "metadata": {
  "kernelspec": {
   "display_name": "Python 3",
   "language": "python",
   "name": "python3"
  },
  "language_info": {
   "codemirror_mode": {
    "name": "ipython",
    "version": 3
   },
   "file_extension": ".py",
   "mimetype": "text/x-python",
   "name": "python",
   "nbconvert_exporter": "python",
   "pygments_lexer": "ipython3",
   "version": "3.7.4"
  }
 },
 "nbformat": 4,
 "nbformat_minor": 2
}
