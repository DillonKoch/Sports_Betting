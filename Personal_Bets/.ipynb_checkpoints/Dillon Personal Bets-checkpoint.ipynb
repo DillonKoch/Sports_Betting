{
 "cells": [
  {
   "cell_type": "markdown",
   "metadata": {},
   "source": [
    "## Personal Bet Tracking"
   ]
  },
  {
   "cell_type": "code",
   "execution_count": 1,
   "metadata": {},
   "outputs": [],
   "source": [
    "# load packages\n",
    "from LII_update import update\n",
    "from LII_Season2 import Bettor\n",
    "from datetime import date\n",
    "import pandas as pd\n",
    "\n",
    "def d(month, day):\n",
    "    return date(2020, month, day)"
   ]
  },
  {
   "cell_type": "code",
   "execution_count": 6,
   "metadata": {},
   "outputs": [],
   "source": [
    "Dillon = Bettor('Dillon Koch', 'Data Science Intern')\n",
    "\n",
    "# insert a bet here -----------------\n",
    "#Dillon.betSpread(d(11,3),d(11,3),5,4.76,0,-3.5,401127899)\n",
    "##Dillon.betSpread(d(11,9),d(11,9),5,4.55,0,-7,401112235,league='NCAAF')\n",
    "#Dillon.betSpread(d(11,10),d(11,10),5,4.55,1,3,401127952)\n",
    "#Dillon.betSpread(d(11,10),d(11,10),5,4.55,0,-4,401127989)\n",
    "#Dillon.betSpread(d(11,17),d(11,17),5,4.55,0,2,401128086)\n",
    "#Dillon.betMoneyLine(d(11,17),d(11,17),5,5.29,1,-500,401128089,isParlay=False,parlayNo='1/3')\n",
    "#Dillon.betMoneyLine(d(11,17),d(11,17),5,5.29,1,-700,401128092,isParlay=True,parlayNo='2/3')\n",
    "#Dillon.betMoneyLine(d(11,17),d(11,17),5,5.29,0,-200,401127897,isParlay=True,parlayNo='3/3')\n",
    "#Dillon.betSpread(d(12,8),d(12,8),5,12.5,0,9,401127920,isParlay=False,parlayNo='1/2')\n",
    "#Dillon.betSpread(d(12,8),d(12,8),5,12.5,0,-3,401127997,isParlay=True,parlayNo='2/2')\n",
    "#Dillon.betMoneyLine(d(12,28),d(12,28),5,6,1,-500,401135278,isParlay=False,parlayNo='1/2',league=\"NCAAF\")\n",
    "#Dillon.betSpread(d(12,28),d(12,28),5,6,0,-2.5,401135279,isParlay=True,parlayNo='1/2',league='NCAAF',moneyLine=-120)\n",
    "Dillon.betSpread(d(1,4),d(1,4),5,4.55,1,-2.5,401131037,moneyLine=-110)\n",
    "Dillon.betSpread(d(1,4),d(1,4),5,4.55,1,-5,401131036,moneyLine=-110)"
   ]
  },
  {
   "cell_type": "code",
   "execution_count": 7,
   "metadata": {
    "scrolled": true
   },
   "outputs": [
    {
     "data": {
      "text/html": [
       "<div>\n",
       "<style scoped>\n",
       "    .dataframe tbody tr th:only-of-type {\n",
       "        vertical-align: middle;\n",
       "    }\n",
       "\n",
       "    .dataframe tbody tr th {\n",
       "        vertical-align: top;\n",
       "    }\n",
       "\n",
       "    .dataframe thead th {\n",
       "        text-align: right;\n",
       "    }\n",
       "</style>\n",
       "<table border=\"1\" class=\"dataframe\">\n",
       "  <thead>\n",
       "    <tr style=\"text-align: right;\">\n",
       "      <th></th>\n",
       "      <th>Bettor</th>\n",
       "      <th>Bet ID</th>\n",
       "      <th>Parlay No.</th>\n",
       "      <th>Bet Type</th>\n",
       "      <th>Bet Date</th>\n",
       "      <th>Gameday</th>\n",
       "      <th>Bet</th>\n",
       "      <th>To Win</th>\n",
       "      <th>Home Team</th>\n",
       "      <th>Home Record</th>\n",
       "      <th>Away Team</th>\n",
       "      <th>Away Record</th>\n",
       "      <th>Pick</th>\n",
       "      <th>Home Score</th>\n",
       "      <th>Away Score</th>\n",
       "      <th>Spread</th>\n",
       "      <th>Money Line</th>\n",
       "      <th>League</th>\n",
       "      <th>Outcome</th>\n",
       "      <th>ESPN ID</th>\n",
       "    </tr>\n",
       "  </thead>\n",
       "  <tbody>\n",
       "    <tr>\n",
       "      <td>0</td>\n",
       "      <td>Dillon Koch</td>\n",
       "      <td>1</td>\n",
       "      <td>None</td>\n",
       "      <td>Spread</td>\n",
       "      <td>2020-01-04</td>\n",
       "      <td>2020-01-04</td>\n",
       "      <td>5</td>\n",
       "      <td>4.55</td>\n",
       "      <td>Houston Texans</td>\n",
       "      <td>10-6, 5-3 Home</td>\n",
       "      <td>Buffalo Bills</td>\n",
       "      <td>10-6, 6-2 Away</td>\n",
       "      <td>Houston Texans</td>\n",
       "      <td>None</td>\n",
       "      <td>None</td>\n",
       "      <td>-2.5</td>\n",
       "      <td>-110</td>\n",
       "      <td>NFL</td>\n",
       "      <td>None</td>\n",
       "      <td>401131037</td>\n",
       "    </tr>\n",
       "    <tr>\n",
       "      <td>1</td>\n",
       "      <td>Dillon Koch</td>\n",
       "      <td>2</td>\n",
       "      <td>None</td>\n",
       "      <td>Spread</td>\n",
       "      <td>2020-01-04</td>\n",
       "      <td>2020-01-04</td>\n",
       "      <td>5</td>\n",
       "      <td>4.55</td>\n",
       "      <td>New England Patriots</td>\n",
       "      <td>12-4, 6-2 Home</td>\n",
       "      <td>Tennessee Titans</td>\n",
       "      <td>9-7, 5-3 Away</td>\n",
       "      <td>New England Patriots</td>\n",
       "      <td>None</td>\n",
       "      <td>None</td>\n",
       "      <td>-5.0</td>\n",
       "      <td>-110</td>\n",
       "      <td>NFL</td>\n",
       "      <td>None</td>\n",
       "      <td>401131036</td>\n",
       "    </tr>\n",
       "  </tbody>\n",
       "</table>\n",
       "</div>"
      ],
      "text/plain": [
       "        Bettor Bet ID Parlay No. Bet Type    Bet Date     Gameday Bet  To Win  \\\n",
       "0  Dillon Koch      1       None   Spread  2020-01-04  2020-01-04   5    4.55   \n",
       "1  Dillon Koch      2       None   Spread  2020-01-04  2020-01-04   5    4.55   \n",
       "\n",
       "              Home Team     Home Record         Away Team     Away Record  \\\n",
       "0        Houston Texans  10-6, 5-3 Home     Buffalo Bills  10-6, 6-2 Away   \n",
       "1  New England Patriots  12-4, 6-2 Home  Tennessee Titans   9-7, 5-3 Away   \n",
       "\n",
       "                   Pick Home Score Away Score  Spread Money Line League  \\\n",
       "0        Houston Texans       None       None    -2.5       -110    NFL   \n",
       "1  New England Patriots       None       None    -5.0       -110    NFL   \n",
       "\n",
       "  Outcome    ESPN ID  \n",
       "0    None  401131037  \n",
       "1    None  401131036  "
      ]
     },
     "execution_count": 7,
     "metadata": {},
     "output_type": "execute_result"
    }
   ],
   "source": [
    "Dillon.allBets"
   ]
  },
  {
   "cell_type": "code",
   "execution_count": 8,
   "metadata": {},
   "outputs": [],
   "source": [
    "# add current bets to CSV\n",
    "with open('Dillon_Current.csv', 'a') as f:\n",
    "    Dillon.allBets.to_csv(f, header=False)"
   ]
  },
  {
   "cell_type": "code",
   "execution_count": 9,
   "metadata": {},
   "outputs": [
    {
     "name": "stderr",
     "output_type": "stream",
     "text": [
      "/home/allison/Documents/Lock It In/Personal Bets/LII_update.py:90: SettingWithCopyWarning: \n",
      "A value is trying to be set on a copy of a slice from a DataFrame\n",
      "\n",
      "See the caveats in the documentation: http://pandas.pydata.org/pandas-docs/stable/user_guide/indexing.html#returning-a-view-versus-a-copy\n",
      "  df.Outcome[i] = 'Win'\n",
      "/home/allison/Documents/Lock It In/Personal Bets/LII_update.py:113: SettingWithCopyWarning: \n",
      "A value is trying to be set on a copy of a slice from a DataFrame\n",
      "\n",
      "See the caveats in the documentation: http://pandas.pydata.org/pandas-docs/stable/user_guide/indexing.html#returning-a-view-versus-a-copy\n",
      "  df.Outcome[i] = 'Win'\n"
     ]
    },
    {
     "name": "stdout",
     "output_type": "stream",
     "text": [
      "Houston Texans vs Buffalo Bills has not ended yet.\n",
      "New England Patriots vs Tennessee Titans has not ended yet.\n"
     ]
    }
   ],
   "source": [
    "# load, update, save data to CSV\n",
    "Dillon_bets = pd.read_csv('Dillon_Current.csv')\n",
    "update(Dillon_bets)\n",
    "Dillon_bets.to_csv('Dillon_Current.csv')"
   ]
  }
 ],
 "metadata": {
  "kernelspec": {
   "display_name": "Python 3",
   "language": "python",
   "name": "python3"
  },
  "language_info": {
   "codemirror_mode": {
    "name": "ipython",
    "version": 3
   },
   "file_extension": ".py",
   "mimetype": "text/x-python",
   "name": "python",
   "nbconvert_exporter": "python",
   "pygments_lexer": "ipython3",
   "version": "3.7.4"
  }
 },
 "nbformat": 4,
 "nbformat_minor": 2
}
